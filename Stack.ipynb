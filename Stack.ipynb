{
  "nbformat": 4,
  "nbformat_minor": 0,
  "metadata": {
    "colab": {
      "provenance": [],
      "authorship_tag": "ABX9TyNnz5KZWnR2q973capGSSw/",
      "include_colab_link": true
    },
    "kernelspec": {
      "name": "python3",
      "display_name": "Python 3"
    },
    "language_info": {
      "name": "python"
    }
  },
  "cells": [
    {
      "cell_type": "markdown",
      "metadata": {
        "id": "view-in-github",
        "colab_type": "text"
      },
      "source": [
        "<a href=\"https://colab.research.google.com/github/BENMEZIAN/2025-Data-Structures-Using-Python-Udemy/blob/main/Stack.ipynb\" target=\"_parent\"><img src=\"https://colab.research.google.com/assets/colab-badge.svg\" alt=\"Open In Colab\"/></a>"
      ]
    },
    {
      "cell_type": "code",
      "execution_count": 17,
      "metadata": {
        "colab": {
          "base_uri": "https://localhost:8080/"
        },
        "collapsed": true,
        "id": "wnAXhY_iUCAD",
        "outputId": "271bb11d-9c52-44ae-be3e-73ee81e9daff"
      },
      "outputs": [
        {
          "output_type": "stream",
          "name": "stdout",
          "text": [
            "------------------------------------\n",
            "Stack Size: 0\n",
            "Is stack empty ? True\n",
            "Peek: None\n",
            "------------------------------------\n",
            "Stack Size: 10\n",
            "Is stack empty ? False\n",
            "Peek: 10\n",
            "Stack:\n",
            "10\n",
            "9\n",
            "8\n",
            "7\n",
            "6\n",
            "5\n",
            "4\n",
            "3\n",
            "2\n",
            "1\n",
            "------------------------------------\n",
            "Pop: <__main__.Node object at 0x7dcd654b09d0>\n",
            "Peek: 9\n",
            "Stack:\n",
            "9\n",
            "8\n",
            "7\n",
            "6\n",
            "5\n",
            "4\n",
            "3\n",
            "2\n",
            "1\n",
            "------------------------------------\n"
          ]
        }
      ],
      "source": [
        "# Python program to demonstrate\n",
        "# stack implementation using a linked list.\n",
        "# node class\n",
        "class Node:\n",
        "    def __init__(self, value):\n",
        "        self.value = value\n",
        "        self.next = None\n",
        "\n",
        "class Stack:\n",
        "    # Initializing a stack\n",
        "    def __init__(self):\n",
        "        self.head = None\n",
        "        self.size = 0\n",
        "\n",
        "    # Get the current size of the stack\n",
        "    def getSize(self):\n",
        "        return self.size\n",
        "\n",
        "    # Check if the stack is empty\n",
        "    def isEmpty(self):\n",
        "        return self.size == 0\n",
        "\n",
        "    # Get the top item of the stack\n",
        "    def peek(self):\n",
        "        if self.isEmpty():\n",
        "            return None\n",
        "        return self.head.value\n",
        "\n",
        "    # Push a value into the stack.\n",
        "    def push(self, value):\n",
        "        node = Node(value)\n",
        "        node.next = self.head # Make the new node point to the current head\n",
        "        self.head = node #!!! # Update the head to be the new node\n",
        "        self.size += 1\n",
        "\n",
        "    # Print the stack\n",
        "    def printStack(self):\n",
        "        if self.isEmpty():\n",
        "            print(\"Stack is empty\")\n",
        "        else:\n",
        "            print(\"Stack:\")\n",
        "            current = self.head\n",
        "            while current:\n",
        "                print(current.value)\n",
        "                current = current.next\n",
        "\n",
        "    # Remove a value from the stack and return the removed value\n",
        "    def pop(self):\n",
        "        if self.isEmpty():\n",
        "            return None\n",
        "        remove = self.head\n",
        "        self.head = self.head.next\n",
        "        self.size -= 1\n",
        "        return remove\n",
        "\n",
        "# Main part\n",
        "if __name__ == \"__main__\":\n",
        "    stack = Stack()\n",
        "    print(\"------------------------------------\")\n",
        "    print(f\"Stack Size: {stack.getSize()}\")\n",
        "    print(f\"Is stack empty ? {stack.isEmpty()}\")\n",
        "    print(f\"Peek: {stack.peek()}\")\n",
        "    print(\"------------------------------------\")\n",
        "    stack.push(1)\n",
        "    stack.push(2)\n",
        "    stack.push(3)\n",
        "    stack.push(4)\n",
        "    stack.push(5)\n",
        "    stack.push(6)\n",
        "    stack.push(7)\n",
        "    stack.push(8)\n",
        "    stack.push(9)\n",
        "    stack.push(10)\n",
        "    print(f\"Stack Size: {stack.getSize()}\")\n",
        "    print(f\"Is stack empty ? {stack.isEmpty()}\")\n",
        "    print(f\"Peek: {stack.peek()}\")\n",
        "    stack.printStack()\n",
        "    print(\"------------------------------------\")\n",
        "    print(f\"Pop: {stack.pop()}\")\n",
        "    print(f\"Peek: {stack.peek()}\")\n",
        "    stack.printStack()\n",
        "    print(\"------------------------------------\")"
      ]
    },
    {
      "cell_type": "code",
      "source": [
        "# Use this implemented stack to check whether a parentheses are balanced or not\n",
        "def check_parentheses(string):\n",
        "  stack = Stack()\n",
        "  for char in string:\n",
        "    if char == \"(\":\n",
        "      stack.push(char)\n",
        "    elif char == \")\":\n",
        "      if stack.isEmpty():\n",
        "        return False\n",
        "      stack.pop()\n",
        "  return stack.isEmpty()\n",
        "\n",
        "# Main\n",
        "if __name__ == \"__main__\":\n",
        "  string = \"((()))\"\n",
        "\n",
        "  if check_parentheses(string):\n",
        "    print(\"Balanced\")\n",
        "  else:\n",
        "    print(\"Not balanced\")"
      ],
      "metadata": {
        "colab": {
          "base_uri": "https://localhost:8080/"
        },
        "id": "ucvQ0X0XZyzx",
        "outputId": "e889ab59-e5f7-43e3-d06c-634826af2046"
      },
      "execution_count": 21,
      "outputs": [
        {
          "output_type": "stream",
          "name": "stdout",
          "text": [
            "Balanced\n"
          ]
        }
      ]
    }
  ]
}