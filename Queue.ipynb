{
  "nbformat": 4,
  "nbformat_minor": 0,
  "metadata": {
    "colab": {
      "provenance": [],
      "authorship_tag": "ABX9TyM01J7Htbl528VmSODg3tJh",
      "include_colab_link": true
    },
    "kernelspec": {
      "name": "python3",
      "display_name": "Python 3"
    },
    "language_info": {
      "name": "python"
    }
  },
  "cells": [
    {
      "cell_type": "markdown",
      "metadata": {
        "id": "view-in-github",
        "colab_type": "text"
      },
      "source": [
        "<a href=\"https://colab.research.google.com/github/BENMEZIAN/2025-Data-Structures-Using-Python-Udemy/blob/main/Queue.ipynb\" target=\"_parent\"><img src=\"https://colab.research.google.com/assets/colab-badge.svg\" alt=\"Open In Colab\"/></a>"
      ]
    },
    {
      "cell_type": "code",
      "execution_count": 20,
      "metadata": {
        "colab": {
          "base_uri": "https://localhost:8080/"
        },
        "id": "p7wtZ8BabHAZ",
        "outputId": "c5b94f77-f879-4190-8a51-3a15cf44bc03"
      },
      "outputs": [
        {
          "output_type": "stream",
          "name": "stdout",
          "text": [
            "Is empty? True\n",
            "Size: 0\n",
            "Peek: None\n",
            "-----------------------------\n",
            "Is empty? False\n",
            "Size: 5\n",
            "Peek: 1\n",
            "1 -> 2 -> 3 -> 4 -> 5 ->  \n",
            "-----------------------------\n",
            "Size: 4\n",
            "Peek: 2\n",
            "2 -> 3 -> 4 -> 5 ->  \n",
            "-----------------------------\n"
          ]
        }
      ],
      "source": [
        "# Implement a Queue with Node\n",
        "class Node:\n",
        "    def __init__(self, value):\n",
        "        self.value = value\n",
        "        self.next = None\n",
        "\n",
        "class Queue:\n",
        "    # initialization\n",
        "    def __init__(self):\n",
        "        self.head = None\n",
        "        self.tail = None\n",
        "\n",
        "    # Size of the queue\n",
        "    def getSize(self):\n",
        "        temp = self.head\n",
        "        count = 0\n",
        "        while temp is not None:\n",
        "            count += 1\n",
        "            temp = temp.next\n",
        "        return count\n",
        "\n",
        "    # Check if the queue is empty\n",
        "    def isEmpty(self):\n",
        "        if self.head is None:\n",
        "            return True\n",
        "        else:\n",
        "            return False\n",
        "\n",
        "    # Peek at the first element\n",
        "    def peek(self):\n",
        "        if self.head is None:\n",
        "            return None\n",
        "        else:\n",
        "            return self.head.value\n",
        "\n",
        "    # Enqueue to the queue\n",
        "    def enqueue(self, value):\n",
        "        new_node = Node(value)\n",
        "        if self.head is None:\n",
        "            self.head = new_node\n",
        "            self.tail = new_node\n",
        "        else:\n",
        "            self.tail.next = new_node\n",
        "            self.tail = new_node\n",
        "\n",
        "    # Dequeue from the queue\n",
        "    def dequeue(self):\n",
        "        if self.head is None:\n",
        "            return None\n",
        "        else:\n",
        "            temp = self.head\n",
        "            self.head = self.head.next\n",
        "            temp.next = None\n",
        "            return temp.value\n",
        "\n",
        "    # Print queue\n",
        "    def print_queue(self):\n",
        "        temp = self.head\n",
        "        while temp is not None:\n",
        "            print(temp.value,\"->\",end=\" \")\n",
        "            temp = temp.next\n",
        "        print(\" \")\n",
        "\n",
        "# Main part\n",
        "if __name__ == '__main__':\n",
        "    queue = Queue()\n",
        "    print(\"Is empty?\",queue.isEmpty())\n",
        "    print(\"Size:\",queue.getSize())\n",
        "    print(\"Peek:\",queue.peek())\n",
        "    print('-----------------------------')\n",
        "    queue.enqueue(1)\n",
        "    queue.enqueue(2)\n",
        "    queue.enqueue(3)\n",
        "    queue.enqueue(4)\n",
        "    queue.enqueue(5)\n",
        "    print(\"Is empty?\",queue.isEmpty())\n",
        "    print(\"Size:\",queue.getSize())\n",
        "    print(\"Peek:\",queue.peek())\n",
        "    queue.print_queue()\n",
        "    print('-----------------------------')\n",
        "    queue.dequeue()\n",
        "    print(\"Size:\",queue.getSize())\n",
        "    print(\"Peek:\",queue.peek())\n",
        "    queue.print_queue()\n",
        "    print('-----------------------------')"
      ]
    }
  ]
}